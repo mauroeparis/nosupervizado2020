{
  "cells": [
    {
      "cell_type": "code",
      "source": [
        "import numpy as np\n",
        "import pandas as pd\n",
        "pd.set_option(\"display.max_columns\",100)\n",
        "pd.set_option(\"display.max_rows\",1000)\n",
        "import itertools\n",
        "import warnings\n",
        "import io\n",
        "\n",
        "from plotly.offline import init_notebook_mode, plot,iplot\n",
        "import plotly.graph_objs as go\n",
        "init_notebook_mode(connected=True)\n",
        "import matplotlib.pyplot as plt\n",
        "import plotly.tools as tls #visualization\n",
        "import plotly.figure_factory as ff #visualization\n",
        "import seaborn as sns\n"
      ],
      "outputs": [],
      "execution_count": null,
      "metadata": {
        "collapsed": true,
        "jupyter": {
          "source_hidden": false,
          "outputs_hidden": false
        },
        "nteract": {
          "transient": {
            "deleting": false
          }
        }
      }
    },
    {
      "cell_type": "code",
      "source": [
        "df = pd.read_csv(\"./players_20.csv\")\n",
        "list(df.columns)\n"
      ],
      "outputs": [],
      "execution_count": null,
      "metadata": {
        "collapsed": true,
        "jupyter": {
          "source_hidden": false,
          "outputs_hidden": false
        },
        "nteract": {
          "transient": {
            "deleting": false
          }
        }
      }
    },
    {
      "cell_type": "code",
      "source": [
        "# Dividamos los puntajes en categorias:\n",
        "attacking_stats = [\n",
        "    'attacking_finishing', 'attacking_crossing',\n",
        "    'attacking_heading_accuracy', 'attacking_short_passing',\n",
        "    'attacking_volleys'\n",
        "]\n",
        "skill_stats = [\n",
        "    'skill_moves', 'skill_dribbling', 'skill_curve',\n",
        "    'skill_fk_accuracy', 'skill_long_passing', 'skill_ball_control',\n",
        "]\n",
        "movement_stats = [\n",
        "    'movement_acceleration', 'movement_sprint_speed', 'movement_agility',\n",
        "    'movement_reactions', 'movement_balance',\n",
        "]\n",
        "power_stats = [\n",
        "    'power_shot_power', 'power_jumping', 'power_stamina', 'power_strength',\n",
        "    'power_long_shots',\n",
        "]\n",
        "mentality_stats = [\n",
        "    'mentality_aggression', 'mentality_interceptions',\n",
        "    'mentality_positioning', 'mentality_vision', 'mentality_penalties',\n",
        "    'mentality_composure',\n",
        "]\n",
        "defending_stats = [\n",
        "    'defending_marking', 'defending_standing_tackle',\n",
        "    'defending_sliding_tackle',\n",
        "]\n"
      ],
      "outputs": [],
      "execution_count": null,
      "metadata": {
        "collapsed": true,
        "jupyter": {
          "source_hidden": false,
          "outputs_hidden": false
        },
        "nteract": {
          "transient": {
            "deleting": false
          }
        }
      }
    },
    {
      "cell_type": "markdown",
      "source": [
        "Veamos quienes son los mejores y peores en cada categoría\n"
      ],
      "metadata": {
        "nteract": {
          "transient": {
            "deleting": false
          }
        }
      }
    },
    {
      "cell_type": "code",
      "source": [
        "get_best_players = lambda stats: list(\n",
        "    df[['short_name', *stats]].sort_values(\n",
        "        stats, ascending=False\n",
        "    )['short_name'].head(5)\n",
        ")\n",
        "\n",
        "best_data = {\n",
        "    \"best_attacking\": get_best_players(attacking_stats),\n",
        "    \"best_skill\": get_best_players(skill_stats),\n",
        "    \"best_movement\": get_best_players(movement_stats),\n",
        "    \"best_power\": get_best_players(power_stats),\n",
        "    \"best_mentality\": get_best_players(mentality_stats),\n",
        "    \"best_defending\": get_best_players(defending_stats),\n",
        "}\n",
        "\n",
        "best_df = pd.DataFrame(best_data, columns=list(best_data.keys()))\n",
        "best_df\n"
      ],
      "outputs": [],
      "execution_count": null,
      "metadata": {
        "collapsed": true,
        "jupyter": {
          "source_hidden": false,
          "outputs_hidden": false
        },
        "nteract": {
          "transient": {
            "deleting": false
          }
        }
      }
    },
    {
      "cell_type": "code",
      "source": [
        "get_worst_players = lambda stats: list(\n",
        "    df[['short_name', *stats]].sort_values(\n",
        "        stats, ascending=True\n",
        "    )['short_name'].head(5)\n",
        ")\n",
        "\n",
        "worst_data = {\n",
        "    \"worst_attacking\": get_worst_players(attacking_stats),\n",
        "    \"worst_skill\": get_worst_players(skill_stats),\n",
        "    \"worst_movement\": get_worst_players(movement_stats),\n",
        "    \"worst_power\": get_worst_players(power_stats),\n",
        "    \"worst_mentality\": get_worst_players(mentality_stats),\n",
        "    \"worst_defending\": get_worst_players(defending_stats),\n",
        "}\n",
        "\n",
        "worst_df = pd.DataFrame(worst_data, columns=list(worst_data.keys()))\n",
        "worst_df\n"
      ],
      "outputs": [],
      "execution_count": null,
      "metadata": {
        "collapsed": true,
        "jupyter": {
          "source_hidden": false,
          "outputs_hidden": false
        },
        "nteract": {
          "transient": {
            "deleting": false
          }
        }
      }
    },
    {
      "cell_type": "markdown",
      "source": [
        "Bajo los datos anteriores podemos suponer que los mejores atacando son los delanteros\n",
        "y lo peores en movilidad son los arqueros dado a que los 5 mejores y peores de esas\n",
        "categorías estan formados solo por esas posiciones respectivamente.\n"
      ],
      "metadata": {
        "nteract": {
          "transient": {
            "deleting": false
          }
        }
      }
    },
    {
      "cell_type": "code",
      "source": [
        "short_df = df[\n",
        "    [\n",
        "        'short_name',\n",
        "\n",
        "        'overall', 'potential',\n",
        "\n",
        "        'pace', 'shooting', 'passing', 'dribbling', 'defending', 'physic',\n",
        "\n",
        "        'gk_diving', 'gk_handling', 'gk_kicking', 'gk_reflexes', 'gk_speed',\n",
        "        'gk_positioning',\n",
        "\n",
        "        *attacking_stats,\n",
        "\n",
        "        *skill_stats,\n",
        "\n",
        "        *movement_stats,\n",
        "\n",
        "        *power_stats,\n",
        "\n",
        "        *mentality_stats,\n",
        "\n",
        "        *defending_stats,\n",
        "\n",
        "        'goalkeeping_diving', 'goalkeeping_handling', 'goalkeeping_kicking',\n",
        "        'goalkeeping_positioning', 'goalkeeping_reflexes'\n",
        "    ]\n",
        "]\n",
        "short_df = short_df.fillna(short_df.mean())\n"
      ],
      "outputs": [],
      "execution_count": null,
      "metadata": {
        "collapsed": true,
        "jupyter": {
          "source_hidden": false,
          "outputs_hidden": false
        },
        "nteract": {
          "transient": {
            "deleting": false
          }
        }
      }
    },
    {
      "cell_type": "code",
      "source": [
        "skill_1 = \"movement_acceleration\"\n",
        "skill_2 = \"attacking_finishing\"\n",
        "bool_crack = short_df[\"overall\"] > 85\n",
        "\n",
        "graf1 = go.Scatter(\n",
        "    x=short_df[skill_1],\n",
        "    y=short_df[skill_2],\n",
        "    mode='markers',\n",
        "    text=short_df[\"short_name\"],\n",
        "    marker=dict(size=5)\n",
        ")\n",
        "\n",
        "crack = go.Scatter(\n",
        "    x=short_df[bool_crack][skill_1],\n",
        "    y=short_df[bool_crack][skill_2],\n",
        "    name='Top players',\n",
        "    text=short_df[bool_crack]['short_name'],\n",
        "    textfont=dict(family='sans serif', size=14, color='black'),\n",
        "    opacity=0.9, mode='text'\n",
        ")\n",
        "\n",
        "data = [graf1, crack]\n",
        "\n",
        "layout = go.Layout(\n",
        "    title=\"Visualización de la base de a dos variables numéricas\",\n",
        "    titlefont=dict(size=20),\n",
        "    xaxis=dict(title=skill_1),\n",
        "    yaxis=dict(title=skill_2),\n",
        "    autosize=False, width=1000, height=1000\n",
        ")\n",
        "\n",
        "fig = go.Figure(data=data, layout=layout)\n",
        "(fig)\n"
      ],
      "outputs": [],
      "execution_count": null,
      "metadata": {
        "collapsed": true,
        "jupyter": {
          "source_hidden": false,
          "outputs_hidden": false
        },
        "nteract": {
          "transient": {
            "deleting": false
          }
        }
      }
    },
    {
      "cell_type": "markdown",
      "source": [
        "En el gráfico anterior vemos como con las variables `movement_acceleration` y\n",
        "`attacking_finishing` los jugadores que tienen una posición de arqueros estan\n",
        "muy abajo con poca aceleración y definición, los defenzores se encuentran más\n",
        "arriba, seguimos con los mediocampistas y luego los delanteros son los que\n",
        "tienen más aceleración y mejor puntaje al momento de patear al arco en ataque."
      ],
      "metadata": {
        "nteract": {
          "transient": {
            "deleting": false
          }
        }
      }
    }
  ],
  "metadata": {
    "kernelspec": {
      "argv": [
        "python",
        "-m",
        "ipykernel_launcher",
        "-f",
        "{connection_file}"
      ],
      "display_name": "Python 3",
      "language": "python",
      "name": "python3"
    }
  },
  "nbformat": 4,
  "nbformat_minor": 0
}