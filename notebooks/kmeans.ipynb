{
  "cells": [
    {
      "cell_type": "code",
      "source": [
        "import numpy as np\n",
        "import pandas as pd\n",
        "pd.set_option('display.max_columns',100)\n",
        "pd.set_option('display.max_rows',1000)\n",
        "import itertools\n",
        "import warnings\n",
        "import io\n",
        "\n",
        "from plotly.offline import init_notebook_mode, plot,iplot\n",
        "import plotly.graph_objs as go\n",
        "init_notebook_mode(connected=True)\n",
        "import matplotlib.pyplot as plt\n",
        "import plotly.tools as tls#visualization\n",
        "import plotly.figure_factory as ff#visualization\n",
        "import seaborn as sns\n"
      ],
      "outputs": [],
      "execution_count": null,
      "metadata": {
        "collapsed": true,
        "jupyter": {
          "source_hidden": false,
          "outputs_hidden": false
        },
        "nteract": {
          "transient": {
            "deleting": false
          }
        }
      }
    },
    {
      "cell_type": "code",
      "source": [
        "df = pd.read_csv(\"./players_20.csv\")\n"
      ],
      "outputs": [],
      "execution_count": null,
      "metadata": {
        "collapsed": true,
        "jupyter": {
          "source_hidden": false,
          "outputs_hidden": false
        },
        "nteract": {
          "transient": {
            "deleting": false
          }
        }
      }
    },
    {
      "cell_type": "code",
      "source": [
        "df = df[\n",
        "    [\n",
        "        'short_name',\n",
        "        'height_cm', 'weight_kg',\n",
        "        'overall', 'potential',\n",
        "        'pace', 'shooting', 'passing', 'dribbling',\n",
        "        'defending', 'physic',\n",
        "        'gk_diving', 'gk_handling', 'gk_kicking', 'gk_reflexes', 'gk_speed',\n",
        "        'gk_positioning',\n",
        "        'attacking_crossing', 'attacking_finishing',\n",
        "        'attacking_heading_accuracy', 'attacking_short_passing',\n",
        "        'attacking_volleys',\n",
        "        'skill_moves', 'skill_dribbling', 'skill_curve', 'skill_fk_accuracy',\n",
        "        'skill_long_passing', 'skill_ball_control',\n",
        "        'movement_acceleration', 'movement_sprint_speed', 'movement_agility',\n",
        "        'movement_reactions', 'movement_balance',\n",
        "        'power_shot_power', 'power_jumping', 'power_stamina', 'power_strength',\n",
        "        'power_long_shots',\n",
        "        'mentality_aggression', 'mentality_interceptions',\n",
        "        'mentality_positioning', 'mentality_vision', 'mentality_penalties',\n",
        "        'mentality_composure',\n",
        "        'defending_marking', 'defending_standing_tackle',\n",
        "        'defending_sliding_tackle',\n",
        "        'goalkeeping_diving', 'goalkeeping_handling', 'goalkeeping_kicking',\n",
        "        'goalkeeping_positioning', 'goalkeeping_reflexes'\n",
        "    ]\n",
        "]\n"
      ],
      "outputs": [],
      "execution_count": null,
      "metadata": {
        "collapsed": true,
        "jupyter": {
          "source_hidden": false,
          "outputs_hidden": false
        },
        "nteract": {
          "transient": {
            "deleting": false
          }
        }
      }
    },
    {
      "cell_type": "code",
      "source": [
        "df = df[df.overall > 85] # extracting players with overall above 86\n",
        "df = df.fillna(df.mean()) # initialize null values with avg\n"
      ],
      "outputs": [],
      "execution_count": null,
      "metadata": {
        "collapsed": true,
        "jupyter": {
          "source_hidden": false,
          "outputs_hidden": false
        },
        "nteract": {
          "transient": {
            "deleting": false
          }
        }
      }
    },
    {
      "cell_type": "code",
      "source": [
        "names = df.short_name.tolist() # saving names for later\n",
        "df = df.drop(['short_name'], axis = 1) # drop the short_name column\n"
      ],
      "outputs": [],
      "execution_count": null,
      "metadata": {
        "collapsed": true,
        "jupyter": {
          "source_hidden": false,
          "outputs_hidden": false
        },
        "nteract": {
          "transient": {
            "deleting": false
          }
        }
      }
    },
    {
      "cell_type": "code",
      "source": [
        "# normalize, investiate why\n",
        "from sklearn import preprocessing\n",
        "\n",
        "x = df.values # numpy array\n",
        "scaler = preprocessing.MinMaxScaler()\n",
        "x_scaled = scaler.fit_transform(x)\n",
        "X_norm = pd.DataFrame(x_scaled)\n"
      ],
      "outputs": [],
      "execution_count": null,
      "metadata": {
        "collapsed": true,
        "jupyter": {
          "source_hidden": false,
          "outputs_hidden": false
        },
        "nteract": {
          "transient": {
            "deleting": false
          }
        }
      }
    },
    {
      "cell_type": "code",
      "source": [
        "from sklearn.decomposition import PCA\n",
        "\n",
        "pca = PCA(n_components = 2) # 2D PCA for the plot\n",
        "reduced = pd.DataFrame(pca.fit_transform(X_norm))\n"
      ],
      "outputs": [],
      "execution_count": null,
      "metadata": {
        "collapsed": true,
        "jupyter": {
          "source_hidden": false,
          "outputs_hidden": false
        },
        "nteract": {
          "transient": {
            "deleting": false
          }
        }
      }
    },
    {
      "cell_type": "code",
      "source": [
        "# perform k-means\n",
        "from sklearn.cluster import KMeans\n",
        "\n",
        "# specify the number of clusters\n",
        "kmeans = KMeans(n_clusters=5)\n",
        "\n",
        "# fit the input data\n",
        "kmeans = kmeans.fit(reduced)\n",
        "\n",
        "# get the cluster labels\n",
        "labels = kmeans.predict(reduced)\n",
        "\n",
        "# centroid values\n",
        "centroid = kmeans.cluster_centers_\n",
        "\n",
        "# cluster values\n",
        "clusters = kmeans.labels_.tolist()\n"
      ],
      "outputs": [],
      "execution_count": null,
      "metadata": {
        "collapsed": true,
        "jupyter": {
          "source_hidden": false,
          "outputs_hidden": false
        },
        "nteract": {
          "transient": {
            "deleting": false
          }
        }
      }
    },
    {
      "cell_type": "code",
      "source": [
        "# Make a new data frame by adding players' names and their cluster\n",
        "reduced['cluster'] = clusters\n",
        "reduced['name'] = names\n",
        "reduced.columns = ['x', 'y', 'cluster', 'name']\n",
        "reduced.head()\n"
      ],
      "outputs": [],
      "execution_count": null,
      "metadata": {
        "collapsed": true,
        "jupyter": {
          "source_hidden": false,
          "outputs_hidden": false
        },
        "nteract": {
          "transient": {
            "deleting": false
          }
        }
      }
    },
    {
      "cell_type": "code",
      "source": [
        "import matplotlib.pyplot as plt\n",
        "import seaborn as sns\n",
        "%matplotlib inline\n",
        "\n",
        "sns.set(style=\"white\")\n",
        "\n",
        "ax = sns.lmplot(x=\"x\", y=\"y\", hue='cluster', data = reduced, legend=False,\n",
        "                   fit_reg=False, height=15, scatter_kws={\"s\": 250})\n",
        "\n",
        "texts = []\n",
        "for x, y, s in zip(reduced.x, reduced.y, reduced.name):\n",
        "    texts.append(plt.text(x, y, s))\n",
        "\n",
        "ax.set(ylim=(-2, 2))\n",
        "plt.tick_params(labelsize=15)\n",
        "plt.xlabel(\"PC 1\", fontsize = 20)\n",
        "plt.ylabel(\"PC 2\", fontsize = 20)\n",
        "\n",
        "plt.show()"
      ],
      "outputs": [],
      "execution_count": null,
      "metadata": {
        "collapsed": true,
        "jupyter": {
          "source_hidden": false,
          "outputs_hidden": false
        },
        "nteract": {
          "transient": {
            "deleting": false
          }
        }
      }
    }
  ],
  "metadata": {
    "kernelspec": {
      "argv": [
        "python",
        "-m",
        "ipykernel_launcher",
        "-f",
        "{connection_file}"
      ],
      "display_name": "Python 3",
      "language": "python",
      "name": "python3"
    }
  },
  "nbformat": 4,
  "nbformat_minor": 0
}